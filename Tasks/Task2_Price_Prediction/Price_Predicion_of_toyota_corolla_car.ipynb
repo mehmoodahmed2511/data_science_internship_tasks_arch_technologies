{
 "cells": [
  {
   "cell_type": "code",
   "execution_count": 1,
   "id": "36b8b3df-c6a7-4fdc-9a57-c00fd389188c",
   "metadata": {},
   "outputs": [],
   "source": [
    "import pandas as pd\n",
    "from sklearn.model_selection import train_test_split\n",
    "from sklearn.linear_model import LinearRegression\n",
    "from sklearn.metrics import mean_absolute_error, r2_score\n",
    "import numpy as np"
   ]
  },
  {
   "cell_type": "code",
   "execution_count": 2,
   "id": "1143fb1f-c187-40c5-900c-4cbfbeabf42c",
   "metadata": {},
   "outputs": [],
   "source": [
    "tc = pd.read_csv(\"ToyotaCorolla_2.csv\")"
   ]
  },
  {
   "cell_type": "code",
   "execution_count": 3,
   "id": "518f8190-8016-4ce5-9a72-69e3ebb5dc81",
   "metadata": {},
   "outputs": [],
   "source": [
    "tc_encoded = pd.get_dummies(tc, columns=['Fuel_Type', 'Color'], drop_first=True)\n",
    "\n",
    "tc_encoded.replace([np.inf, -np.inf], np.nan, inplace=True)\n",
    "tc_encoded.dropna(inplace=True)\n",
    "\n",
    "features = tc_encoded.drop(columns=['Price', 'Model', 'Mfg_Month', 'Mfg_Year'])\n",
    "target = tc_encoded['Price']\n",
    "\n",
    "X = features\n",
    "y = target\n",
    "\n",
    "X_train, X_test, y_train, y_test = train_test_split(X, y, test_size=0.2, random_state=42)"
   ]
  },
  {
   "cell_type": "code",
   "execution_count": 4,
   "id": "ba58e7e5-c451-432e-a88a-da1d9304e146",
   "metadata": {},
   "outputs": [
    {
     "name": "stdout",
     "output_type": "stream",
     "text": [
      "Mean Absolute Error: 825.8906185951033\n",
      "R-squared: 0.8110407394777476\n"
     ]
    }
   ],
   "source": [
    "model = LinearRegression()\n",
    "model.fit(X_train, y_train)\n",
    "\n",
    "y_pred = model.predict(X_test)\n",
    "mae = mean_absolute_error(y_test, y_pred)\n",
    "r2 = r2_score(y_test, y_pred)\n",
    "print(\"Mean Absolute Error:\", mae)\n",
    "print(\"R-squared:\", r2)"
   ]
  },
  {
   "cell_type": "code",
   "execution_count": 7,
   "id": "eccc69f7-f7ba-46b3-85dc-1d2e77ad3ba8",
   "metadata": {},
   "outputs": [],
   "source": [
    "#Putting IV Values for prediction\n",
    "new_car_data = pd.DataFrame(columns=X.columns)"
   ]
  },
  {
   "cell_type": "code",
   "execution_count": 12,
   "id": "4d3735ab-85ea-403d-93a4-28dd3506362e",
   "metadata": {},
   "outputs": [],
   "source": [
    "new_car_data.loc[0] = [\n",
    "    80,  \n",
    "    38000 ,  \n",
    "    110, \n",
    "    1,  \n",
    "    1, \n",
    "    1360, \n",
    "    3, \n",
    "    5,  \n",
    "    150 ,  \n",
    "    1000,  \n",
    "    1,  \n",
    "    1,  \n",
    "    5, \n",
    "    1, \n",
    "    1,  \n",
    "    1,  \n",
    "    1,  \n",
    "    0, \n",
    "    0, \n",
    "    0,  \n",
    "    0,  \n",
    "    0, \n",
    "    0, \n",
    "    0, \n",
    "    0,\n",
    "    0, \n",
    "    0, \n",
    "    0, \n",
    "    0, \n",
    "    1  \n",
    "]"
   ]
  },
  {
   "cell_type": "code",
   "execution_count": 13,
   "id": "d85fa7bb-5c1c-4165-a0c3-f2632a66cb58",
   "metadata": {},
   "outputs": [
    {
     "name": "stdout",
     "output_type": "stream",
     "text": [
      "New Predicted Car Price\n",
      "[7979.08630924]\n"
     ]
    }
   ],
   "source": [
    "pred_price = model.predict(new_car_data)\n",
    "print(\"New Predicted Car Price\")\n",
    "print(pred_price)"
   ]
  }
 ],
 "metadata": {
  "kernelspec": {
   "display_name": "Python 3 (ipykernel)",
   "language": "python",
   "name": "python3"
  },
  "language_info": {
   "codemirror_mode": {
    "name": "ipython",
    "version": 3
   },
   "file_extension": ".py",
   "mimetype": "text/x-python",
   "name": "python",
   "nbconvert_exporter": "python",
   "pygments_lexer": "ipython3",
   "version": "3.13.5"
  }
 },
 "nbformat": 4,
 "nbformat_minor": 5
}
